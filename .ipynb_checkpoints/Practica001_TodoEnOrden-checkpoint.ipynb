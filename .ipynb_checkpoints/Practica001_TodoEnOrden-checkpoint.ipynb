{
 "cells": [
  {
   "cell_type": "markdown",
   "metadata": {},
   "source": [
    "# Práctica 01. Prueba Inicialización de datos\n",
    "\n",
    "En este caso se verificarán las rutas de instalación de los servicios requeridos:"
   ]
  },
  {
   "cell_type": "markdown",
   "metadata": {},
   "source": [
    "### 1. Importando las librerías"
   ]
  },
  {
   "cell_type": "code",
   "execution_count": 7,
   "metadata": {},
   "outputs": [],
   "source": [
    "# Importar librería del sistema\n",
    "import sys\n",
    "# Agregar la ruta en donde está alojada la pyeo\n",
    "sys.path.append(\"/home/davo/Documentos/pyeo\")\n",
    "# Agregar la ruta del programa Sen2Core, programa original de la ESA\n",
    "sen2cor_path = r\"/home/davo/Documentos/Sen2Cor-02.08.00-Linux64/bin/L2A_Process\"\n",
    "# Importar la librería PyEO para análisis de Imágenes Sentinel.\n",
    "import pyeo.core as pyeo\n",
    "# Importar librería matplotlib para presentación de gráficos\n",
    "import matplotlib.pyplot as plt\n",
    "# Importar librería gdal para trabajo con datos espaciales\n",
    "import gdal\n",
    "# Importar librería para impresión de datos al sistema\n",
    "import pprint\n",
    "# Importar librería os para manejo de archivos\n",
    "import os\n",
    "pyeo.init_log(\"logs/training_log.log\")\n"
   ]
  },
  {
   "cell_type": "markdown",
   "metadata": {},
   "source": [
    "### 2. "
   ]
  },
  {
   "cell_type": "code",
   "execution_count": null,
   "metadata": {},
   "outputs": [],
   "source": [
    "def show_satellite_image(image_path):\n",
    "    img = gdal.Open(image_path)\n",
    "    array = img.GetVirtualMemArray()\n",
    "    img_view = array.transpose([1,2,0])\n",
    "    plt.imshow(img_view)\n",
    "    array = None\n",
    "    img = None"
   ]
  },
  {
   "cell_type": "code",
   "execution_count": 3,
   "metadata": {},
   "outputs": [
    {
     "name": "stdout",
     "output_type": "stream",
     "text": [
      "True\n"
     ]
    }
   ],
   "source": []
  }
 ],
 "metadata": {
  "kernelspec": {
   "display_name": "Python 3",
   "language": "python",
   "name": "python3"
  },
  "language_info": {
   "codemirror_mode": {
    "name": "ipython",
    "version": 3
   },
   "file_extension": ".py",
   "mimetype": "text/x-python",
   "name": "python",
   "nbconvert_exporter": "python",
   "pygments_lexer": "ipython3",
   "version": "3.7.3"
  }
 },
 "nbformat": 4,
 "nbformat_minor": 2
}
