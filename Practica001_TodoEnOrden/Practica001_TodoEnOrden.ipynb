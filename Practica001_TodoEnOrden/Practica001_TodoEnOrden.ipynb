{
 "cells": [
  {
   "cell_type": "markdown",
   "metadata": {},
   "source": [
    "# Librería para procesamiento de datos PyEO\n",
    "\n",
    "Adaptación realizada por:\n",
    "\n",
    "- David Alonso Rueda Rodríguez - Ing. Catasral y Geodesta\n",
    "- Luís Manuel Guerrero Buelvas - Ing. Forestal\n",
    "\n",
    "## Práctica 01. Prueba Inicialización de datos\n",
    "\n",
    "En este caso se verificarán las rutas de instalación de los servicios requeridos:"
   ]
  },
  {
   "cell_type": "markdown",
   "metadata": {},
   "source": [
    "### 0. Requerimientos para ejecución de la librería\n",
    "\n",
    "Este paquete de datos requiere la previa instalación de los siguientes elementos:\n",
    "\n",
    "- Anaconda\n",
    "- Descarga y descompresión del paquete Sen2Core (http://step.esa.int/main/third-party-plugins-2/sen2cor/)\n",
    "- Descarga del repositorio de datos git del proyecto PyEO (https://github.com/clcr/pyeo)\n",
    "- Libreŕia Folium (https://python-visualization.github.io/folium/installing.html)"
   ]
  },
  {
   "cell_type": "markdown",
   "metadata": {},
   "source": [
    "### 1. Importando las librerías"
   ]
  },
  {
   "cell_type": "code",
   "execution_count": 3,
   "metadata": {},
   "outputs": [],
   "source": [
    "import sys                                                                        # Importar librería del sistema\n",
    "sys.path.append(\"/home/davo/Documentos/pyeo\")                                     # Agregar la ruta en donde está alojada la pyeo\n",
    "sen2cor_path = r\"/home/davo/Documentos/Sen2Cor-02.08.00-Linux64/bin/L2A_Process\"  # Agregar la ruta del programa Sen2Core, programa original de la ESA\n",
    "import pyeo.core as pyeo                                                          # Importar la librería PyEO para análisis de Imágenes Sentinel.\n",
    "import matplotlib.pyplot as plt                                                   # Importar librería matplotlib para presentación de gráficos\n",
    "import gdal                                                                       # Importar librería gdal para trabajo con datos espaciales\n",
    "import pprint                                                                     # Importar librería para impresión de datos al sistema\n",
    "import os                                                                         # Importar librería os para manejo de archivos"
   ]
  },
  {
   "cell_type": "markdown",
   "metadata": {},
   "source": [
    "### 2. Creación de archivo log\n",
    "\n",
    "El objetivo de esta actividad es actividad el archvio para seguimiento de las actividades realizadas"
   ]
  },
  {
   "cell_type": "code",
   "execution_count": 4,
   "metadata": {},
   "outputs": [
    {
     "name": "stderr",
     "output_type": "stream",
     "text": [
      "2019-05-15 21:41:55,247: INFO: ****PROCESSING START****\n"
     ]
    },
    {
     "data": {
      "text/plain": [
       "<Logger pyeo.core (DEBUG)>"
      ]
     },
     "execution_count": 4,
     "metadata": {},
     "output_type": "execute_result"
    }
   ],
   "source": [
    "# Creación de archivo para seguimiento de actividades\n",
    "pyeo.init_log(\"logs/training_log.log\")"
   ]
  },
  {
   "cell_type": "markdown",
   "metadata": {},
   "source": [
    "### 3. Comprobación de las funciones\n",
    "\n",
    "Esta prueba llama a la función **is_tif** que hace parte de la librería pyeo, la función únicamente comprueba que el archivo tenga la extensión .tif, en caso positivo retorna el valor **True** en caso contrario **False**."
   ]
  },
  {
   "cell_type": "code",
   "execution_count": 8,
   "metadata": {},
   "outputs": [
    {
     "data": {
      "text/plain": [
       "True"
      ]
     },
     "execution_count": 8,
     "metadata": {},
     "output_type": "execute_result"
    }
   ],
   "source": [
    "# Esta prueba permite identificar si el llamado a las funciones está trabajando correctamento\n",
    "pyeo.is_tif(\"prueba.tif\")"
   ]
  },
  {
   "cell_type": "code",
   "execution_count": 5,
   "metadata": {},
   "outputs": [],
   "source": [
    "def show_satellite_image(image_path):\n",
    "    img = gdal.Open(image_path)\n",
    "    array = img.GetVirtualMemArray()\n",
    "    img_view = array.transpose([1,2,0])\n",
    "    plt.imshow(img_view)\n",
    "    array = None\n",
    "    img = None"
   ]
  },
  {
   "cell_type": "markdown",
   "metadata": {},
   "source": [
    "### 4. Obtener datos de acceso a programa Copernicus\n",
    "\n",
    "Se leerán los datos de usuario almacenados en un archivo **.ini**, para confirmar que todo ha funcionado se imprimirá el nombre del usuario en el archivo"
   ]
  },
  {
   "cell_type": "code",
   "execution_count": 14,
   "metadata": {},
   "outputs": [
    {
     "name": "stdout",
     "output_type": "stream",
     "text": [
      "Nmbre de usuario: polybispo\n"
     ]
    }
   ],
   "source": [
    "import configparser                                            # Importar módulo para acceso a archivo de configuración\n",
    "conf = configparser.ConfigParser()                             # Crear un objeto ConfigParser y asignarlo a la variables conf\n",
    "archivo_configuracion = \"../lic/kinangop.ini\"                  # Nombre y ruta del archivo con las variables de acceso al servicio Copernicus\n",
    "conf.read(archivo_configuracion)                               # Leer el archivo con las variables de acceso al servicio Copernicus\n",
    "print('Nmbre de usuario: {}' .format(conf['sent_2']['user']))  # Mostrar los datos de la configuración"
   ]
  },
  {
   "cell_type": "markdown",
   "metadata": {},
   "source": [
    "### 5. Selección y descarga de datos\n",
    "#### 5.1 Identificación del área\n",
    "\n",
    "El área de trabajo para consulta se localiza en Colombia, en el Departamento del Tolima en el municipio de Cajamarca. En el área se presenta una zona con pinos destinados al aprovechamiento forestal. La siguiente ventana presenta el área de interés:\n",
    "\n",
    "\n"
   ]
  },
  {
   "cell_type": "code",
   "execution_count": 27,
   "metadata": {},
   "outputs": [
    {
     "data": {
      "text/html": [
       "<div style=\"width:100%;\"><div style=\"position:relative;width:100%;height:0;padding-bottom:60%;\"><iframe src=\"data:text/html;charset=utf-8;base64,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\" style=\"position:absolute;width:100%;height:100%;left:0;top:0;border:none !important;\" allowfullscreen webkitallowfullscreen mozallowfullscreen></iframe></div></div>"
      ],
      "text/plain": [
       "<folium.folium.Map at 0x7eff849dbba8>"
      ]
     },
     "execution_count": 27,
     "metadata": {},
     "output_type": "execute_result"
    }
   ],
   "source": [
    "import folium as fl\n",
    "m= fl.Map( \n",
    "    location=[4.464769,-75.507265],\n",
    "    tiles='Stamen Terrain',\n",
    "    zoom_start = '13',\n",
    ")\n",
    "m"
   ]
  }
 ],
 "metadata": {
  "kernelspec": {
   "display_name": "Python 3",
   "language": "python",
   "name": "python3"
  },
  "language_info": {
   "codemirror_mode": {
    "name": "ipython",
    "version": 3
   },
   "file_extension": ".py",
   "mimetype": "text/x-python",
   "name": "python",
   "nbconvert_exporter": "python",
   "pygments_lexer": "ipython3",
   "version": "3.7.3"
  }
 },
 "nbformat": 4,
 "nbformat_minor": 2
}
