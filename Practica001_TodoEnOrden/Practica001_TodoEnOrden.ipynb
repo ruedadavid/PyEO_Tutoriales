{
 "cells": [
  {
   "cell_type": "markdown",
   "metadata": {},
   "source": [
    "# Librería para procesamiento de datos PyEO\n",
    "\n",
    "Adaptación realizada por:\n",
    "\n",
    "- David Alonso Rueda Rodríguez - Ing. Catasral y Geodesta\n",
    "- Luís Manuel Guerrero Buelvas - Ing. Ambiental\n",
    "\n",
    "## Práctica 01. Prueba Inicialización de datos\n",
    "\n",
    "En este caso se verificarán las rutas de instalación de los servicios requeridos:"
   ]
  },
  {
   "cell_type": "markdown",
   "metadata": {},
   "source": [
    "### 0. Requerimientos para ejecución de la librería\n",
    "\n",
    "Este paquete de datos requiere la previa instalación de los siguientes elementos:\n",
    "\n",
    "- Anaconda\n",
    "- Descarga y descompresión del paquete Sen2Core (http://step.esa.int/main/third-party-plugins-2/sen2cor/)\n",
    "- Descarga del repositorio de datos git del proyecto PyEO (https://github.com/clcr/pyeo)\n",
    "- Libreŕia Folium (https://python-visualization.github.io/folium/installing.html)"
   ]
  },
  {
   "cell_type": "markdown",
   "metadata": {},
   "source": [
    "### 1. Importando las librerías"
   ]
  },
  {
   "cell_type": "code",
   "execution_count": 1,
   "metadata": {},
   "outputs": [
    {
     "name": "stdout",
     "output_type": "stream",
     "text": [
      "Tenacity, Planet and Multiprocessing are required for Planet data downloading\n"
     ]
    }
   ],
   "source": [
    "import sys                                                                        # Importar librería del sistema\n",
    "sys.path.append(\"/home/davo/Documentos/pyeo\")                                     # Agregar la ruta en donde está alojada la pyeo\n",
    "sen2cor_path = r\"/home/davo/Documentos/Sen2Cor-02.08.00-Linux64/bin/L2A_Process\"  # Agregar la ruta del programa Sen2Core, programa original de la ESA\n",
    "import pyeo.core as pyeo                                                          # Importar la librería PyEO para análisis de Imágenes Sentinel.\n",
    "import matplotlib.pyplot as plt                                                   # Importar librería matplotlib para presentación de gráficos\n",
    "import gdal                                                                       # Importar librería gdal para trabajo con datos espaciales\n",
    "import pprint                                                                     # Importar librería para impresión de datos al sistema\n",
    "import os                                                                         # Importar librería os para manejo de archivos"
   ]
  },
  {
   "cell_type": "markdown",
   "metadata": {},
   "source": [
    "### 2. Creación de archivo log\n",
    "\n",
    "El objetivo de esta actividad es actividad el archvio para seguimiento de las actividades realizadas"
   ]
  },
  {
   "cell_type": "code",
   "execution_count": 2,
   "metadata": {},
   "outputs": [
    {
     "name": "stderr",
     "output_type": "stream",
     "text": [
      "2019-05-16 09:38:02,902: INFO: ****PROCESSING START****\n"
     ]
    },
    {
     "data": {
      "text/plain": [
       "<Logger pyeo.core (DEBUG)>"
      ]
     },
     "execution_count": 2,
     "metadata": {},
     "output_type": "execute_result"
    }
   ],
   "source": [
    "# Creación de archivo para seguimiento de actividades\n",
    "pyeo.init_log(\"logs/training_log.log\")"
   ]
  },
  {
   "cell_type": "markdown",
   "metadata": {},
   "source": [
    "### 3. Comprobación de las funciones\n",
    "\n",
    "Esta prueba llama a la función **is_tif** que hace parte de la librería pyeo, la función únicamente comprueba que el archivo tenga la extensión .tif, en caso positivo retorna el valor **True** en caso contrario **False**."
   ]
  },
  {
   "cell_type": "code",
   "execution_count": 3,
   "metadata": {},
   "outputs": [
    {
     "data": {
      "text/plain": [
       "True"
      ]
     },
     "execution_count": 3,
     "metadata": {},
     "output_type": "execute_result"
    }
   ],
   "source": [
    "# Esta prueba permite identificar si el llamado a las funciones está trabajando correctamento\n",
    "pyeo.is_tif(\"prueba.tif\")"
   ]
  },
  {
   "cell_type": "code",
   "execution_count": 4,
   "metadata": {},
   "outputs": [],
   "source": [
    "def show_satellite_image(image_path):\n",
    "    img = gdal.Open(image_path)\n",
    "    array = img.GetVirtualMemArray()\n",
    "    img_view = array.transpose([1,2,0])\n",
    "    plt.imshow(img_view)\n",
    "    array = None\n",
    "    img = None"
   ]
  },
  {
   "cell_type": "code",
   "execution_count": 224,
   "metadata": {},
   "outputs": [],
   "source": [
    "def mapa_area_interes(json_path, name_area, zoom_op = 10, tipo_image = 'Stamen Terrain'):\n",
    "    \"\"\"\n",
    "    Función mapa_area_interes\n",
    "    \n",
    "    Objetivo: \n",
    "    \n",
    "    - Generar mapa de interés leyendo un archivo geojson. Como resultado se presenta\n",
    "    un mapa del área de interés, y agregar una marca de posición con el nombre del\n",
    "    área\n",
    "    \n",
    "    Variables de Entrada:\n",
    "    \n",
    "    - json_path  = Dirección donde está almacenado el archivo json\n",
    "    - name_area  = Nombre asignado al área de trabajo\n",
    "    - zoom_op    = Zoom para presentación del área por defecto 10\n",
    "    - tipo_image = Tipo de imagen para mostrar, por defecto se establece Stamen Terrain\n",
    "        se tienen otras opciones que son heredadas desde follium:\n",
    "            * OpenStreetMap\n",
    "            * Stament Terrain\n",
    "            * Mapbox Bright\n",
    "            * CartoDB positron\n",
    "    \n",
    "    Desarrollado por: David Alonso Rueda Rodríguez    \n",
    "    \n",
    "    Versiones:\n",
    "    \n",
    "    000 - 20190516. Se agrega función para estimar centroide, y documentación de ayuda.\n",
    "    1   - 20190515. Preparación inicial de la función.\n",
    "    \n",
    "    \"\"\"\n",
    "    import geojson_utils\n",
    "    import folium as fl\n",
    "    import geojson\n",
    "    import json\n",
    "    import os\n",
    "    \n",
    "    area_interes = os.path.join('',json_path)    \n",
    "\n",
    "    with open(area_interes) as g:\n",
    "        gj = geojson.load(g)\n",
    "    entidades = gj['features'][0]\n",
    "    centroide = centroid(entidades['geometry'])\n",
    "    cent = [centroide['coordinates'][1], centroide['coordinates'][0]]\n",
    "    \n",
    "    m= fl.Map( \n",
    "        location= cent,\n",
    "        tiles=tipo_image,\n",
    "        zoom_start = zoom_op,\n",
    "    )\n",
    "    fl.GeoJson(\n",
    "        area_interes,\n",
    "        name=name_area\n",
    "    ).add_to(m)\n",
    "    fl.Marker(\n",
    "        location= cent,\n",
    "        popup = name_area\n",
    "    ).add_to(m)\n",
    "    fl.LayerControl().add_to(m)\n",
    "    print(\"\\n\\nMapa del {}\" .format(name_area))\n",
    "    return m"
   ]
  },
  {
   "cell_type": "markdown",
   "metadata": {},
   "source": [
    "### 4. Obtener datos de acceso a programa Copernicus\n",
    "\n",
    "Se leerán los datos de usuario almacenados en un archivo **.ini**, para confirmar que todo ha funcionado se imprimirá el nombre del usuario en el archivo"
   ]
  },
  {
   "cell_type": "code",
   "execution_count": 6,
   "metadata": {},
   "outputs": [
    {
     "name": "stdout",
     "output_type": "stream",
     "text": [
      "Nmbre de usuario: polybispo\n"
     ]
    }
   ],
   "source": [
    "import configparser                                            # Importar módulo para acceso a archivo de configuración\n",
    "conf = configparser.ConfigParser()                             # Crear un objeto ConfigParser y asignarlo a la variables conf\n",
    "archivo_configuracion = \"../lic/kinangop.ini\"                  # Nombre y ruta del archivo con las variables de acceso al servicio Copernicus\n",
    "conf.read(archivo_configuracion)                               # Leer el archivo con las variables de acceso al servicio Copernicus\n",
    "print('Nombre de usuario: {}' .format(conf['sent_2']['user']))  # Mostrar los datos de la configuración"
   ]
  },
  {
   "cell_type": "markdown",
   "metadata": {},
   "source": [
    "### 5. Selección y descarga de datos\n",
    "#### 5.1 Identificación del área\n",
    "\n",
    "El área de trabajo para consulta se localiza en Colombia, en el Departamento del Tolima en el municipio de Cajamarca. En el área se presenta una zona con pinos destinados al aprovechamiento forestal. La siguiente ventana presenta el área de interés:\n",
    "\n",
    "\n"
   ]
  },
  {
   "cell_type": "code",
   "execution_count": 225,
   "metadata": {
    "scrolled": false
   },
   "outputs": [
    {
     "name": "stdout",
     "output_type": "stream",
     "text": [
      "\n",
      "\n",
      "Mapa del Área de Interés\n"
     ]
    },
    {
     "data": {
      "text/html": [
       "<div style=\"width:100%;\"><div style=\"position:relative;width:100%;height:0;padding-bottom:60%;\"><iframe src=\"data:text/html;charset=utf-8;base64,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\" style=\"position:absolute;width:100%;height:100%;left:0;top:0;border:none !important;\" allowfullscreen webkitallowfullscreen mozallowfullscreen></iframe></div></div>"
      ],
      "text/plain": [
       "<folium.folium.Map at 0x7fef26f775f8>"
      ]
     },
     "execution_count": 225,
     "metadata": {},
     "output_type": "execute_result"
    }
   ],
   "source": [
    "# Datos de entrada para presentación de mapa de interés\n",
    "archivo_aoi = 'src/AOI.json'\n",
    "nombre_mapa = \"Área de Interés\"\n",
    "\n",
    "mapa_area_interes (json_path=archivo_aoi, name_area=nombre_mapa, zoom_op=12)"
   ]
  },
  {
   "cell_type": "markdown",
   "metadata": {},
   "source": [
    "#### 5.2 Identificación de datos disponible\n",
    "\n",
    "Esta función presenta las imágenes disponibles en la zona que cumplen las siguientes condiciones:\n",
    "\n",
    "- Cobertura de nubes menor a 15%\n",
    "- Fecha de inicio de datos Junio de 2018\n",
    "- Fecha final de toma de datos Mayo de 2019\n",
    "- Datos de acceso (variable -conf-)"
   ]
  },
  {
   "cell_type": "code",
   "execution_count": 93,
   "metadata": {},
   "outputs": [
    {
     "name": "stderr",
     "output_type": "stream",
     "text": [
      "2019-05-16 11:06:10,962: INFO: Querying for imagery between 20180601 and 20190501 for aoi src/AOI.json\n",
      "2019-05-16 11:06:10,968: INFO: Sending query:\n",
      "footprint: POLYGON((-75.5760 4.5170,-75.5760 4.4120,-75.4370 4.4120,-75.4370 4.5170,-75.5760 4.5170))\n",
      "start_date: 2018-06-01T00:00:00Z\n",
      "end_date: 2019-05-01T00:00:00Z\n",
      " cloud_cover: 15 \n",
      "2019-05-16 11:06:12,758: INFO: Search returned 1 images\n"
     ]
    }
   ],
   "source": [
    "# Consulta número de imágenes disponibles con las siguientes condiciones:\n",
    "\n",
    "fecha_inicio = \"20180601\"                             # Fecha de inicio de datos\n",
    "fecha_final = \"20190501\"                              # Fecha fin de datos\n",
    "cobertura_nubes = 15                                  # Cobertura de nubes menor de este número\n",
    "\n",
    "# Llamado a función que retorna la imágenes disponibles con las condiciones previamente identificadas\n",
    "\n",
    "imagenes_disponibles = pyeo.check_for_s2_data_by_date (archivo_aoi, fecha_inicio, fecha_final, conf, cobertura_nubes)"
   ]
  },
  {
   "cell_type": "code",
   "execution_count": 94,
   "metadata": {},
   "outputs": [
    {
     "data": {
      "text/plain": [
       "OrderedDict([('48194f04-dec1-44db-bee7-05d1a2ad09d9',\n",
       "              {'title': 'S2A_MSIL1C_20190213T152641_N0207_R025_T18NVK_20190213T201450',\n",
       "               'link': \"https://scihub.copernicus.eu/apihub/odata/v1/Products('48194f04-dec1-44db-bee7-05d1a2ad09d9')/$value\",\n",
       "               'link_alternative': \"https://scihub.copernicus.eu/apihub/odata/v1/Products('48194f04-dec1-44db-bee7-05d1a2ad09d9')/\",\n",
       "               'link_icon': \"https://scihub.copernicus.eu/apihub/odata/v1/Products('48194f04-dec1-44db-bee7-05d1a2ad09d9')/Products('Quicklook')/$value\",\n",
       "               'summary': 'Date: 2019-02-13T15:26:41.025Z, Instrument: MSI, Mode: , Satellite: Sentinel-2, Size: 792.78 MB',\n",
       "               'datatakesensingstart': datetime.datetime(2019, 2, 13, 15, 26, 41, 25000),\n",
       "               'beginposition': datetime.datetime(2019, 2, 13, 15, 26, 41, 25000),\n",
       "               'endposition': datetime.datetime(2019, 2, 13, 15, 26, 41, 25000),\n",
       "               'ingestiondate': datetime.datetime(2019, 2, 13, 22, 40, 46, 906000),\n",
       "               'orbitnumber': 19041,\n",
       "               'relativeorbitnumber': 25,\n",
       "               'cloudcoverpercentage': 13.7413,\n",
       "               'sensoroperationalmode': 'INS-NOBS',\n",
       "               'gmlfootprint': '<gml:Polygon srsName=\"http://www.opengis.net/gml/srs/epsg.xml#4326\" xmlns:gml=\"http://www.opengis.net/gml\">\\n   <gml:outerBoundaryIs>\\n      <gml:LinearRing>\\n         <gml:coordinates>3.530281113601384,-75.581024 3.541160392604566,-75.63611 3.541015196837677,-75.63614 3.541025127911101,-75.6362 3.53787772952449,-75.6369 3.58084310283501,-75.859955 3.585116763965175,-75.85898 3.585566879263455,-75.86157 3.586368729398571,-75.86139 3.593200150914152,-75.90076 4.523362716978575,-75.901794 4.523919106072805,-74.91202 3.53057468839868,-74.91211 3.530281113601384,-75.581024</gml:coordinates>\\n      </gml:LinearRing>\\n   </gml:outerBoundaryIs>\\n</gml:Polygon>',\n",
       "               'footprint': 'MULTIPOLYGON (((-75.581024 3.530281113601384, -74.91211 3.53057468839868, -74.91202 4.523919106072805, -75.901794 4.523362716978575, -75.90076 3.593200150914152, -75.86139 3.586368729398571, -75.86157 3.585566879263455, -75.85898 3.585116763965175, -75.859955 3.58084310283501, -75.6369 3.53787772952449, -75.6362 3.541025127911101, -75.63614 3.541015196837677, -75.63611 3.541160392604566, -75.581024 3.530281113601384)))',\n",
       "               'tileid': '18NVK',\n",
       "               'hv_order_tileid': 'NK18V',\n",
       "               'format': 'SAFE',\n",
       "               'processingbaseline': '02.07',\n",
       "               'platformname': 'Sentinel-2',\n",
       "               'filename': 'S2A_MSIL1C_20190213T152641_N0207_R025_T18NVK_20190213T201450.SAFE',\n",
       "               'instrumentname': 'Multi-Spectral Instrument',\n",
       "               'instrumentshortname': 'MSI',\n",
       "               'size': '792.78 MB',\n",
       "               's2datatakeid': 'GS2A_20190213T152641_019041_N02.07',\n",
       "               'producttype': 'S2MSI1C',\n",
       "               'platformidentifier': '2015-028A',\n",
       "               'orbitdirection': 'DESCENDING',\n",
       "               'platformserialidentifier': 'Sentinel-2A',\n",
       "               'processinglevel': 'Level-1C',\n",
       "               'identifier': 'S2A_MSIL1C_20190213T152641_N0207_R025_T18NVK_20190213T201450',\n",
       "               'uuid': '48194f04-dec1-44db-bee7-05d1a2ad09d9'})])"
      ]
     },
     "execution_count": 94,
     "metadata": {},
     "output_type": "execute_result"
    }
   ],
   "source": [
    "imagenes_disponibles"
   ]
  },
  {
   "cell_type": "markdown",
   "metadata": {},
   "source": [
    "### 6. Descarga de imágenes\n",
    "\n",
    "Este procedimiento requiere aclarar la fuente de datos, datos de acceso a la plataforma de descarga y el conjunto de imágenes a descargar.\n",
    "\n",
    "La duración total de la actividad dependerá de la conexión utilizada, y el número de imágenes a descargarse.\n",
    "\n",
    "En caso que el directorio *images* no exista, se generará un error"
   ]
  },
  {
   "cell_type": "code",
   "execution_count": 99,
   "metadata": {},
   "outputs": [
    {
     "ename": "SyntaxError",
     "evalue": "invalid syntax (<ipython-input-99-697a43f2b4ef>, line 9)",
     "output_type": "error",
     "traceback": [
      "\u001b[0;36m  File \u001b[0;32m\"<ipython-input-99-697a43f2b4ef>\"\u001b[0;36m, line \u001b[0;32m9\u001b[0m\n\u001b[0;31m    if ruta = d:\u001b[0m\n\u001b[0m            ^\u001b[0m\n\u001b[0;31mSyntaxError\u001b[0m\u001b[0;31m:\u001b[0m invalid syntax\n"
     ]
    }
   ],
   "source": [
    "# Diligenciar las siguientes variables para iniciar la descarga del conjunto de imágenes disponible\n",
    "\n",
    "fuente_datos = \"scihub\"                               # Datos disponibles en: scihub, aws y google_cloud\n",
    "usuario = conf[\"sent_2\"][\"user\"]\n",
    "contrasenia = conf[\"sent_2\"][\"pass\"]\n",
    "dir_salida = \"images\"\n",
    "\n",
    "pyeo.download_s2_data(imagenes_disponibles, dir_salida, source = fuente_datos, user = usuario, passwd = contrasenia)"
   ]
  },
  {
   "cell_type": "markdown",
   "metadata": {},
   "source": [
    "#### 7. Visualización de la imagen descargada\n",
    "\n",
    "Para esta actividad inicialmente se utilziará matplotlib"
   ]
  },
  {
   "cell_type": "code",
   "execution_count": 114,
   "metadata": {},
   "outputs": [
    {
     "name": "stdout",
     "output_type": "stream",
     "text": [
      ".ipynb_checkpoints\n",
      "SI\n"
     ]
    }
   ],
   "source": [
    "dir_salida = \"images\"\n",
    "dir_actual = os.listdir('/home/davo/Documentos/PyEO_Tutoriales/Practica001_TodoEnOrden')\n",
    "ruta_existe = False\n",
    "\n",
    "for ruta in dir_actual:\n",
    "    if ruta != dir_salida:\n",
    "        ruta_existe = True\n",
    "        break"
   ]
  },
  {
   "cell_type": "code",
   "execution_count": 211,
   "metadata": {},
   "outputs": [
    {
     "data": {
      "text/plain": [
       "[4.46450000000147, -75.50650000002506]"
      ]
     },
     "execution_count": 211,
     "metadata": {},
     "output_type": "execute_result"
    }
   ],
   "source": [
    "import geojson\n",
    "import geojson_utils\n",
    "area_interes = os.path.join('', 'src/AOI.json')\n",
    "with open(area_interes) as g:\n",
    "    gj = geojson.load(g)\n",
    "entidades = gj['features'][0]\n",
    "centroide = centroid(entidades['geometry'])\n",
    "cent = [centroide['coordinates'][1], centroide['coordinates'][0]]\n",
    "cent"
   ]
  }
 ],
 "metadata": {
  "kernelspec": {
   "display_name": "Python 3",
   "language": "python",
   "name": "python3"
  },
  "language_info": {
   "codemirror_mode": {
    "name": "ipython",
    "version": 3
   },
   "file_extension": ".py",
   "mimetype": "text/x-python",
   "name": "python",
   "nbconvert_exporter": "python",
   "pygments_lexer": "ipython3",
   "version": "3.7.3"
  }
 },
 "nbformat": 4,
 "nbformat_minor": 2
}
